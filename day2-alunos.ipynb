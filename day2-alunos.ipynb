{
 "cells": [
  {
   "cell_type": "code",
   "execution_count": null,
   "id": "6b5bd426-7f7d-4944-97c9-efe12cfb345c",
   "metadata": {},
   "outputs": [],
   "source": [
    "# 🚀 Etapa 1: Inicialize algum modelo dessa lista (ou outro)\n",
    "# Para saber mais sobre cada um, dê uma breve pesquisada! ChatGPT pode gerar resumos sobre cada um.\n",
    "\n",
    "#Logistic Regression\n",
    "#from sklearn.linear_model import LogisticRegression\n",
    "\n",
    "#Random Forest Classifier\n",
    "#Importação: from sklearn.ensemble import RandomForestClassifier\n",
    "\n",
    "#Support Vector Classifier (SVC)\n",
    "#Importação: from sklearn.svm import SVC\n",
    "\n",
    "#K-Nearest Neighbors (KNN)\n",
    "#Importação: from sklearn.neighbors import KNeighborsClassifier\n",
    "\n",
    "#Decision Tree Classifier\n",
    "#Importação: from sklearn.tree import DecisionTreeClassifier\n",
    "\n",
    "#Naive Bayes Classifier\n",
    "#Importação: from sklearn.naive_bayes import GaussianNB\n",
    "\n",
    "#Gradient Boosting Classifier\n",
    "#Importação: from sklearn.ensemble import GradientBoostingClassifier\n",
    "\n",
    "#XGBoost Classifier\n",
    "#Importação: from xgboost import XGBClassifier\n",
    "\n",
    "#LightGBM Classifier\n",
    "#Importação: from lightgbm import LGBMClassifier\n",
    "\n",
    "#Multi-layer Perceptron Classifier\n",
    "\n",
    "#Importação: from sklearn.neural_network import MLPClassifier\n",
    "\n",
    "\n",
    "# Pergunta: qual modelo você usou, e por que? "
   ]
  },
  {
   "cell_type": "code",
   "execution_count": null,
   "id": "d5fe2fab-5243-428a-b2f5-e9dfdb70b683",
   "metadata": {},
   "outputs": [],
   "source": [
    "# 🚀 Etapa 2: Treine o seu modelo"
   ]
  },
  {
   "cell_type": "code",
   "execution_count": null,
   "id": "86422d9d-3001-46e2-851b-f77d4ce782c6",
   "metadata": {},
   "outputs": [],
   "source": [
    "# 🚀 Etapa 3: Previsões no conjunto de teste"
   ]
  },
  {
   "cell_type": "code",
   "execution_count": null,
   "id": "38e81dcd-ae3e-491b-b53b-fbb9516e43d3",
   "metadata": {},
   "outputs": [],
   "source": [
    "# 🚀 Etapa 4: Calculando as métricas de desempenho\n",
    "\n",
    "from sklearn.metrics import accuracy_score, precision_score, recall_score, f1_score, classification_report"
   ]
  },
  {
   "cell_type": "code",
   "execution_count": null,
   "id": "163b9e4c-975d-4e3d-9194-f28ac9410159",
   "metadata": {},
   "outputs": [],
   "source": [
    "# 🚀 Etapa 5: Gerando o relatório de classificação"
   ]
  },
  {
   "cell_type": "code",
   "execution_count": null,
   "id": "79e916c8-5478-4b3a-9b0e-3185953440d0",
   "metadata": {},
   "outputs": [],
   "source": [
    "# 🚀 Etapa 6: Matriz de confusão\n",
    "\n",
    "from sklearn.metrics import confusion_matrix\n",
    "import seaborn as sns\n",
    "import matplotlib.pyplot as plt\n"
   ]
  },
  {
   "cell_type": "code",
   "execution_count": null,
   "id": "0cbcab39-7783-4c6a-afd3-5524b9f10bc6",
   "metadata": {},
   "outputs": [],
   "source": [
    "# 🚀 Etapa 7: Calculando as probabilidades de previsão\n",
    "\n",
    "from sklearn.metrics import roc_curve, roc_auc_score"
   ]
  },
  {
   "cell_type": "code",
   "execution_count": null,
   "id": "fae4d606-6d1f-4e35-9cac-795d741ce7b8",
   "metadata": {},
   "outputs": [],
   "source": [
    "# 🚀 Etapa 8: Calculando e plotando a curva ROC"
   ]
  },
  {
   "cell_type": "code",
   "execution_count": null,
   "id": "ff92aba9-9083-4c67-a4bc-d02e5506ebed",
   "metadata": {},
   "outputs": [],
   "source": [
    "# 🚀 Etapa 9: Avaliando com validação cruzada\n",
    "\n",
    "from sklearn.model_selection import cross_val_score"
   ]
  },
  {
   "cell_type": "code",
   "execution_count": null,
   "id": "58e37d2b-0cb9-480d-86d5-5f0cbda751ef",
   "metadata": {},
   "outputs": [],
   "source": [
    "# 🚀 Etapa 10: Comparação entre treino e teste"
   ]
  },
  {
   "cell_type": "markdown",
   "id": "03a886f4-0d92-4bf8-99f4-a64119d8753d",
   "metadata": {},
   "source": [
    "# SEÇÃO DE DICAS\n",
    "\n",
    "### A etapa de validação cruzada (cross_val_score) é importante para garantir que o modelo generalize bem para novos dados.\n",
    "### A curva ROC mede a relação entre os falsos positivos e os verdadeiros positivos, ajudando a avaliar a qualidade das previsões probabilísticas.\n",
    "### Testar diferentes valores de 'C' na regressão logística ajuda a entender o impacto da regularização no modelo.\n",
    "### Use max_iter maior se o modelo não convergir"
   ]
  }
 ],
 "metadata": {
  "kernelspec": {
   "display_name": "Python 3 (ipykernel)",
   "language": "python",
   "name": "python3"
  },
  "language_info": {
   "codemirror_mode": {
    "name": "ipython",
    "version": 3
   },
   "file_extension": ".py",
   "mimetype": "text/x-python",
   "name": "python",
   "nbconvert_exporter": "python",
   "pygments_lexer": "ipython3",
   "version": "3.10.15"
  }
 },
 "nbformat": 4,
 "nbformat_minor": 5
}
