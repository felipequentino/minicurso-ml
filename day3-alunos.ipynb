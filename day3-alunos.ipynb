{
 "cells": [
  {
   "cell_type": "markdown",
   "id": "9a896da7-6b19-4985-a4fb-bfaf539cd513",
   "metadata": {},
   "source": [
    "# 🚀 Etapa 1: Otimize o seu modelo escolhido! \n",
    "- Estude os hiperparâmetros dele, fique a vontade de usar ChatGPT e similares para pesquisar sobre como otimizar o seu modelo.\n"
   ]
  },
  {
   "cell_type": "code",
   "execution_count": null,
   "id": "ea496d5d-f69a-4cec-aaf2-21c2b2414e27",
   "metadata": {},
   "outputs": [],
   "source": [
    "# 🚀 Etapa 2: Ache os melhores hiperparâmetros com Grid Search!"
   ]
  },
  {
   "cell_type": "code",
   "execution_count": null,
   "id": "f3db6aae-7e88-4f6b-9b52-c428cd80086c",
   "metadata": {},
   "outputs": [],
   "source": [
    "# 🚀 Etapa 3: Salve o modelo treinado"
   ]
  },
  {
   "cell_type": "code",
   "execution_count": 1,
   "id": "a0dad4c2-a994-4e97-83f5-c3f07bb74907",
   "metadata": {},
   "outputs": [],
   "source": [
    "# 🚀 Etapa 4: Carregue o modelo e faça uma previsão com novos dados:\n",
    "# Exenplo de cliente:\n",
    "novo_cliente = {\n",
    "    'SeniorCitizen': 0,\n",
    "    'tenure': 5,\n",
    "    'MonthlyCharges': 70.0,\n",
    "    'TotalCharges': 350.0,\n",
    "    'gender_Female': 1,\n",
    "    'gender_Male': 0,\n",
    "    'Partner_No': 1,\n",
    "    'Partner_Yes': 0,\n",
    "    'Dependents_No': 0,\n",
    "    'Dependents_Yes': 1,\n",
    "    'PhoneService_No': 0,\n",
    "    'PhoneService_Yes': 1,\n",
    "    'MultipleLines_No': 0,\n",
    "    'MultipleLines_No phone service': 0,\n",
    "    'MultipleLines_Yes': 1,\n",
    "    'InternetService_DSL': 1,\n",
    "    'InternetService_Fiber optic': 0,\n",
    "    'InternetService_No': 0,\n",
    "    'OnlineSecurity_No': 1,\n",
    "    'OnlineSecurity_No internet service': 0,\n",
    "    'OnlineSecurity_Yes': 0,\n",
    "    'OnlineBackup_No': 1,\n",
    "    'OnlineBackup_No internet service': 0,\n",
    "    'OnlineBackup_Yes': 0,\n",
    "    'DeviceProtection_No': 1,\n",
    "    'DeviceProtection_No internet service': 0,\n",
    "    'DeviceProtection_Yes': 0,\n",
    "    'TechSupport_No': 1,\n",
    "    'TechSupport_No internet service': 0,\n",
    "    'TechSupport_Yes': 0,\n",
    "    'StreamingTV_No': 1,\n",
    "    'StreamingTV_No internet service': 0,\n",
    "    'StreamingTV_Yes': 0,\n",
    "    'StreamingMovies_No': 1,\n",
    "    'StreamingMovies_No internet service': 0,\n",
    "    'StreamingMovies_Yes': 0,\n",
    "    'Contract_Month-to-month': 0,\n",
    "    'Contract_One year': 0,\n",
    "    'Contract_Two year': 1,\n",
    "    'PaperlessBilling_No': 0,\n",
    "    'PaperlessBilling_Yes': 1,\n",
    "    'PaymentMethod_Bank transfer (automatic)': 0,\n",
    "    'PaymentMethod_Credit card (automatic)': 0,\n",
    "    'PaymentMethod_Electronic check': 1,\n",
    "    'PaymentMethod_Mailed check': 0\n",
    "}\n"
   ]
  },
  {
   "cell_type": "code",
   "execution_count": null,
   "id": "a3d5d92e-7baa-43d4-825a-9f1aa73ea44a",
   "metadata": {},
   "outputs": [],
   "source": []
  }
 ],
 "metadata": {
  "kernelspec": {
   "display_name": "Python 3 (ipykernel)",
   "language": "python",
   "name": "python3"
  },
  "language_info": {
   "codemirror_mode": {
    "name": "ipython",
    "version": 3
   },
   "file_extension": ".py",
   "mimetype": "text/x-python",
   "name": "python",
   "nbconvert_exporter": "python",
   "pygments_lexer": "ipython3",
   "version": "3.10.15"
  }
 },
 "nbformat": 4,
 "nbformat_minor": 5
}
