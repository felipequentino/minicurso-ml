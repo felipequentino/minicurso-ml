{
 "cells": [
  {
   "cell_type": "markdown",
   "id": "3f4bd2d7-b613-4303-88ec-502dfc86a1bc",
   "metadata": {},
   "source": [
    "### Explicação das colunas:\n",
    "\n",
    "- **CustomerID**: Identificação única de cada cliente.\n",
    "- **Age**: Idade do cliente em anos.\n",
    "- **Gender**: Gênero do cliente (Male/Female).\n",
    "- **Tenure**: Duração da permanência do cliente no serviço (em meses).\n",
    "- **Usage Frequency**: Frequência de uso do serviço pelo cliente (baixa/média/alta).\n",
    "- **Support Calls**: Número de vezes que o cliente entrou em contato com o suporte.\n",
    "- **Payment Delay**: Número de pagamentos atrasados pelo cliente.\n",
    "- **Subscription Type**: Tipo de assinatura do cliente (básica/premium/etc.).\n",
    "- **Contract Length**: Duração do contrato do cliente (em meses).\n",
    "- **Total Spend**: Total gasto pelo cliente durante toda a permanência no serviço.\n",
    "- **Last Interaction**: Número de dias desde a última interação do cliente com o serviço.\n",
    "- **Churn**: Indica se o cliente abandonou o serviço (1 para abandonou, 0 para permaneceu).\n"
   ]
  },
  {
   "cell_type": "code",
   "execution_count": 103,
   "id": "f50de98a-63cf-433e-9d4c-e2be87288aa9",
   "metadata": {},
   "outputs": [],
   "source": [
    "# Importando bibliotecas essenciais\n",
    "import pandas as pd\n",
    "import numpy as np\n",
    "import matplotlib.pyplot as plt\n",
    "import seaborn as sns\n",
    "\n",
    "# Configurando estilos dos gráficos\n",
    "%matplotlib inline\n",
    "sns.set(style='whitegrid')\n",
    "\n",
    "# 🚀 Etapa 1: Carregar e visualizar o dataset\n",
    "\n",
    "# Tarefa: Carregue o arquivo CSV no DataFrame chamado `df` e visualize as 5 primeiras linhas."
   ]
  },
  {
   "cell_type": "code",
   "execution_count": 104,
   "id": "4209a52c-a96e-4a1b-a6a6-aa1e94fb8daf",
   "metadata": {},
   "outputs": [
    {
     "data": {
      "text/plain": [
       "CustomerID           0\n",
       "Age                  0\n",
       "Gender               0\n",
       "Tenure               0\n",
       "Usage Frequency      0\n",
       "Support Calls        0\n",
       "Payment Delay        0\n",
       "Subscription Type    0\n",
       "Contract Length      0\n",
       "Total Spend          0\n",
       "Last Interaction     0\n",
       "Churn                0\n",
       "dtype: int64"
      ]
     },
     "execution_count": 104,
     "metadata": {},
     "output_type": "execute_result"
    }
   ],
   "source": [
    "# 🚀 Etapa 2: Tratar valores ausentes\n",
    "\n",
    "# Tarefa: Verifique a quantidade de valores ausentes no DataFrame e remova linhas com valores ausentes.\n",
    "\n",
    "# Verifique os valores ausentes\n",
    "df.isnull().sum()"
   ]
  },
  {
   "cell_type": "code",
   "execution_count": 105,
   "id": "27c2f462-2413-4fe9-ae0a-651db6c3e97b",
   "metadata": {},
   "outputs": [
    {
     "data": {
      "text/plain": [
       "CustomerID            int64\n",
       "Age                   int64\n",
       "Gender               object\n",
       "Tenure                int64\n",
       "Usage Frequency       int64\n",
       "Support Calls         int64\n",
       "Payment Delay         int64\n",
       "Subscription Type    object\n",
       "Contract Length      object\n",
       "Total Spend           int64\n",
       "Last Interaction      int64\n",
       "Churn                 int64\n",
       "dtype: object"
      ]
     },
     "execution_count": 105,
     "metadata": {},
     "output_type": "execute_result"
    }
   ],
   "source": [
    "# 🚀 Etapa 3: Ajustar tipos de dados\n",
    "\n",
    "# Tarefa: Veja se é necessário a conversão da coluna 'Total Spend' para tipo numérico.\n",
    "\n",
    "# Verifique os tipos de dados\n",
    "df.dtypes"
   ]
  },
  {
   "cell_type": "code",
   "execution_count": 106,
   "id": "2c607783-bf14-4bf8-9dae-73ab39a50702",
   "metadata": {},
   "outputs": [],
   "source": [
    "# 🚀 Etapa 4: Análise estatística\n",
    "\n",
    "# Tarefa: Obtenha estatísticas descritivas para variáveis numéricas e categóricas."
   ]
  },
  {
   "cell_type": "code",
   "execution_count": 107,
   "id": "81c969c2-8d85-44d0-b237-638a0b1e6372",
   "metadata": {},
   "outputs": [],
   "source": [
    "# 🚀 Etapa 5: Análise inicial de Churn\n",
    "\n",
    "# Tarefa: Visualize a distribuição de clientes que cancelaram (Churn) e calcule a porcentagem de cada classe."
   ]
  },
  {
   "cell_type": "code",
   "execution_count": 109,
   "id": "b1388ae8-9ffd-403f-a2ca-88e107aa78cc",
   "metadata": {},
   "outputs": [],
   "source": [
    "# 🚀 Etapa 6: Pré-processamento de variáveis categóricas\n",
    "\n",
    "# Tarefa: Liste as colunas categóricas e exclua as colunas necessárias!\n",
    "# Se você sabe python, tente fazer de um jeito diferente que eu fiz! \n",
    "\n",
    "# Pergunta: quais colunas são necessárias remover? Tem outra que você pensou em resolver?"
   ]
  },
  {
   "cell_type": "code",
   "execution_count": 108,
   "id": "34594e2d-2375-495c-abaa-53cfd1fb0d11",
   "metadata": {},
   "outputs": [],
   "source": [
    "# 🚀 Etapa 7: Aplicar One-Hot Encoding\n",
    "\n",
    "# Tarefa: Transforme as variáveis categóricas em numéricas com pd.get_dummies()."
   ]
  },
  {
   "cell_type": "code",
   "execution_count": 110,
   "id": "fca9f422-f6c9-4f62-915c-34d1b68cfd17",
   "metadata": {},
   "outputs": [],
   "source": [
    "# 🚀 Etapa 8: Mapear coluna 'Churn' para valores numéricos\n",
    "\n",
    "# Tarefa: Mapeie os valores de 'Churn' para No (0) e Yes (1).\n",
    "# Pergunta: O que você ganha com isso?"
   ]
  },
  {
   "cell_type": "code",
   "execution_count": 111,
   "id": "38320ae0-0c11-4bba-98fb-10871df8a659",
   "metadata": {},
   "outputs": [],
   "source": [
    "# 🚀 Etapa 9: Escalar variáveis numéricas\n",
    "\n",
    "# Tarefa: Escale as variáveis númericas, mas nem todas elas!\n",
    "\n",
    "# Pergunta: Por que você escolheu essa variáveis númericas?"
   ]
  },
  {
   "cell_type": "code",
   "execution_count": 112,
   "id": "ccf7ef3d-6ac5-4b67-8394-0b49aeaf75d3",
   "metadata": {},
   "outputs": [],
   "source": [
    "# 🚀 Etapa 10: Divisão em conjuntos de treino e teste\n",
    "\n",
    "# Tarefa: Separe as features (X) e o target (y), e então divida em treino e teste.\n",
    "from sklearn.model_selection import train_test_split"
   ]
  },
  {
   "cell_type": "markdown",
   "id": "13185cfc-ec34-41c4-a0a9-7ea5810b6b88",
   "metadata": {},
   "source": [
    "# PAINEL DE DICAS!\n",
    "\n",
    "### Use pd.read_csv() para carregar o arquivo \"./data/churn-alunos.csv\".\n",
    "### Use isnull().sum() para contar valores ausentes.\n",
    "### Use pd.to_numeric() com o parâmetro errors='coerce'.\n",
    "### Use df.describe() e df.describe(include=['O']).\n",
    "### Use sns.countplot() e value_counts(normalize=True).\n",
    "### Use a classe MinMaxScaler para normalizar as variáveis númericas.\n",
    "### Use train_test_split() com test_size=0.2 e stratify=y."
   ]
  },
  {
   "cell_type": "code",
   "execution_count": null,
   "id": "5967d96f-d3c2-4232-b94a-a3a31b53a965",
   "metadata": {},
   "outputs": [],
   "source": []
  }
 ],
 "metadata": {
  "kernelspec": {
   "display_name": "Python 3 (ipykernel)",
   "language": "python",
   "name": "python3"
  },
  "language_info": {
   "codemirror_mode": {
    "name": "ipython",
    "version": 3
   },
   "file_extension": ".py",
   "mimetype": "text/x-python",
   "name": "python",
   "nbconvert_exporter": "python",
   "pygments_lexer": "ipython3",
   "version": "3.10.15"
  }
 },
 "nbformat": 4,
 "nbformat_minor": 5
}
